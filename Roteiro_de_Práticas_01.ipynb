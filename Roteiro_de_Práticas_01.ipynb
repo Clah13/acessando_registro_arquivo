{
  "nbformat": 4,
  "nbformat_minor": 0,
  "metadata": {
    "colab": {
      "provenance": [],
      "toc_visible": true,
      "mount_file_id": "1OpbODcuVq63dSpZ9AlzVf9JMEJn3LPgB",
      "authorship_tag": "ABX9TyOv8y5hYAqJs3Ou/qM7SgYf",
      "include_colab_link": true
    },
    "kernelspec": {
      "name": "python3",
      "display_name": "Python 3"
    },
    "language_info": {
      "name": "python"
    }
  },
  "cells": [
    {
      "cell_type": "markdown",
      "metadata": {
        "id": "view-in-github",
        "colab_type": "text"
      },
      "source": [
        "<a href=\"https://colab.research.google.com/github/Clah13/acessando_registro_arquivo/blob/main/Roteiro_de_Pr%C3%A1ticas_01.ipynb\" target=\"_parent\"><img src=\"https://colab.research.google.com/assets/colab-badge.svg\" alt=\"Open In Colab\"/></a>"
      ]
    },
    {
      "cell_type": "markdown",
      "source": [
        "# Projeto 01 - Registro de acesso a arquivo\n",
        "\n",
        "Objetivo do projeto\n",
        "\n",
        "> Criar uma função openLog(nomearq, modo) em Python que funcione de maneira similar à função built-in open(), recebendo o nome do arquivo e o modo de abertura. Adicionalmente, a função openLog deverá registrar a data e a hora de cada acesso ao arquivo, persistindo essa informação (juntamente com o nome do arquivo acessado) em um arquivo de log chamado log.txt\n",
        "___________"
      ],
      "metadata": {
        "id": "dPhBdtqVEoR3"
      }
    },
    {
      "cell_type": "markdown",
      "source": [
        "## 1.1 Código:\n",
        "\n",
        "\n"
      ],
      "metadata": {
        "id": "YFSRjZu7FK1T"
      }
    },
    {
      "cell_type": "code",
      "execution_count": 19,
      "metadata": {
        "id": "3x2wv2DQwcSx"
      },
      "outputs": [],
      "source": [
        " # Importação do pacote para registro do tempo\n",
        "import time\n",
        "\n",
        " # Especificação da função\n",
        "def openLog(nomearq, modo = 'r'):\n",
        "  '''abre arquivo nomearq em certo modo e retorna referência ao arquivo aberto;\n",
        "     registra o acesso ao arquivo em log.txt'''\n",
        "  #Parâmetros do arqEntrada (o nome do arquivo, o que vai fazer com ele)\n",
        "  arqEntrada = open(nomearq, modo)\n",
        "\n",
        "  #Obtém hora atual\n",
        "  now = time.localtime()\n",
        "  nowFormat = time.strftime('%A %b/%d/%y %I:%M %p', now)\n",
        "\n",
        "  # Abre arquivo log.txt no modo de acréscimo ('a') e acrescenta log\n",
        "  arqSaída = open('log.txt', 'a')\n",
        "  # Crie uma string de log formatada com o nome do arquivo aberto.\n",
        "  log = '{}: Arquivo {} aberto.\\n' # Formata string\n",
        "  arqSaída.write(log.format(nowFormat, nomearq))\n",
        "  # Fecha o arquivo log.txt para garantir que a gravação seja concluída.\n",
        "  arqSaída.close()\n",
        "\n",
        "  print('Registro realizado com sucesso!')\n",
        "\n",
        "  # Retorna o objeto de arquivo original (arqEntrada) para que o usuário possa interagir com o arquivo aberto.\n",
        "  return arqEntrada"
      ]
    },
    {
      "cell_type": "code",
      "source": [
        "#Para testar\n",
        "openLog('/content/drive/MyDrive/Colab Notebooks/teste.txt')"
      ],
      "metadata": {
        "colab": {
          "base_uri": "https://localhost:8080/"
        },
        "id": "eSF7_MKc7qe4",
        "outputId": "e507c78c-7f9a-4f5b-d9e2-bb2409d22115"
      },
      "execution_count": 20,
      "outputs": [
        {
          "output_type": "stream",
          "name": "stdout",
          "text": [
            "Registro realizado\n"
          ]
        },
        {
          "output_type": "execute_result",
          "data": {
            "text/plain": [
              "<_io.TextIOWrapper name='/content/drive/MyDrive/Colab Notebooks/teste.txt' mode='r' encoding='utf-8'>"
            ]
          },
          "metadata": {},
          "execution_count": 20
        }
      ]
    },
    {
      "cell_type": "markdown",
      "source": [
        "## 1.2 Erros cometidos nesse exercício:\n",
        "\n",
        "1. **Erro de indentação**\n",
        "\n",
        "Coloquei o trecho `print('Registro realizado')` sem indentação e logo em seguida o trecho `return arqEntrada` com indentação.\n",
        "\n",
        "Isso resultou em um erro conforme a descrição abaixo.\n",
        "\n",
        "```\n",
        "  File \"<ipython-input-2-91386b616a59>\", line 30\n",
        "    return arqEntrada\n",
        "    ^\n",
        "SyntaxError: 'return' outside function\n",
        "```\n",
        "Ao corrigir o comando do print, a posição do `return` ainda estava incorreta, deste modo retornou um segundo erro, conforme demonstrado abaixo.\n",
        "\n",
        "```\n",
        "File \"<ipython-input-3-91386b616a59>\", line 30\n",
        "    return arqEntrada\n",
        "    ^\n",
        "SyntaxError: 'return' outside function\n",
        "```\n",
        "\n",
        "2. **Variáveis com nomes distintos**\n",
        "\n",
        "Este erro ocorreu devido a inconsistência nos nomes das variáveis, em específico a variável openLog, que estava escrita openlog em alguns momentos e openLog em outros.\n",
        "\n",
        "```\n",
        "NameError                                 Traceback (most recent call last)\n",
        "\n",
        "<ipython-input-6-747481af388c> in <cell line: 0>()\n",
        "      1 #Para testar\n",
        "----> 2 openLog('/content/drive/MyDrive/Colab Notebooks/teste.txt')\n",
        "\n",
        "NameError: name 'openLog' is not defined\n",
        "```\n",
        "3. **Falta de atenção**\n",
        "\n",
        "Após as devidas correções, o código rodou, mas não gerou output e nem erro. A princípio, fiquei confusa, mas percebi logo em seguida que não existia ainda uma linha específica para chamar a função. Após ter identificado o erro, consegui implementar o restante do código.\n"
      ],
      "metadata": {
        "id": "k6gRHDtI5s7R"
      }
    },
    {
      "cell_type": "markdown",
      "source": [
        "## 1.3 Pontos de atenção:\n",
        "\n",
        "1. O tempo registrado no log está com horário incorreto (+3h em comparação com o horário atual). Será que é por causa do horário em que o servidor está localizado? Necessário investigar.\n",
        "\n",
        "```\n",
        "Wednesday Apr/16/25 11:32 PM: Arquivo /content/drive/MyDrive/Colab Notebooks/teste.txt aberto.\n",
        "Wednesday Apr/16/25 11:35 PM: Arquivo /content/drive/MyDrive/Colab Notebooks/teste.txt aberto.\n",
        "Wednesday Apr/16/25 11:38 PM: Arquivo /content/drive/MyDrive/Colab Notebooks/teste.txt aberto.\n",
        "Thursday Apr/17/25 12:13 AM: Arquivo /content/drive/MyDrive/Colab Notebooks/teste.txt aberto.\n",
        "Thursday Apr/17/25 12:16 AM: Arquivo /content/drive/MyDrive/Colab Notebooks/teste.txt aberto.\n",
        "```\n",
        "\n",
        "2. Não devo quebrar a indentação do código com comentários. Isso faz com que o código fique rodando de forma contínua e não faz o devido registro das informações.\n",
        "\n",
        "3. Trocar o nome da variável arqSaída para arqSaida, de modo a evitar acentos e ficar em concordância com as boas praticas de nomenclatura de variável."
      ],
      "metadata": {
        "id": "qGSvYh_JGnKZ"
      }
    }
  ]
}